{
 "cells": [
  {
   "cell_type": "code",
   "execution_count": 1,
   "metadata": {},
   "outputs": [],
   "source": [
    "%matplotlib inline\n",
    "import matplotlib.patches as mpatches\n",
    "import matplotlib.path as mpath\n",
    "import matplotlib.pyplot as plt\n",
    "import numpy as np\n",
    "from sklearn.ensemble import IsolationForest\n",
    "from sklearn.ensemble._iforest import _average_path_length"
   ]
  },
  {
   "cell_type": "code",
   "execution_count": 2,
   "metadata": {
    "pycharm": {
     "name": "#%%\n"
    }
   },
   "outputs": [],
   "source": [
    "COLORS = {-1: 'red', 1: 'blue'}"
   ]
  },
  {
   "cell_type": "code",
   "execution_count": 3,
   "metadata": {
    "pycharm": {
     "name": "#%%\n"
    }
   },
   "outputs": [],
   "source": [
    "def generate_inliers(n, rng):\n",
    "    return rng.uniform([0, 0], [0.5, 0.5], (n, 2))\n",
    "\n",
    "\n",
    "def generate_outliers(n, rng, loc=[1, 1]):\n",
    "    return rng.normal(loc, 0.1, (n, 2))"
   ]
  },
  {
   "cell_type": "code",
   "execution_count": 4,
   "metadata": {
    "pycharm": {
     "name": "#%%\n"
    }
   },
   "outputs": [
    {
     "data": {
      "text/plain": [
       "<matplotlib.legend.Legend at 0x7fc06959d2e0>"
      ]
     },
     "execution_count": 4,
     "metadata": {},
     "output_type": "execute_result"
    },
    {
     "data": {
      "image/png": "[encoded data removed]",
      "text/plain": [
       "<Figure size 432x288 with 1 Axes>"
      ]
     },
     "metadata": {
      "needs_background": "light"
     },
     "output_type": "display_data"
    }
   ],
   "source": [
    "n_inliers = 1 << 16\n",
    "n_outliers = 1 << 4\n",
    "rng = np.random.default_rng(0)\n",
    "\n",
    "x = np.concatenate([generate_inliers(n_inliers, rng),\n",
    "                    generate_outliers(n_outliers, rng, [1, 1]),\n",
    "                    generate_outliers(n_outliers, rng, [0, 1]),\n",
    "                    generate_outliers(n_outliers, rng, [1, 0])])\n",
    "ifo = IsolationForest(n_estimators=100, random_state=0, contamination=3 * n_outliers / x.shape[0])\n",
    "ifo.fit(x)\n",
    "\n",
    "plt.title('Isolation Forest')\n",
    "plt.xlabel('x1')\n",
    "plt.ylabel('x2')\n",
    "plt.scatter(*x.T, c=[COLORS[l] for l in ifo.predict(x)], s=10)\n",
    "blue_patch = mpatches.Patch(color='blue', label='Normal')\n",
    "red_patch = mpatches.Patch(color='red', label='Anomalous')\n",
    "plt.legend(handles=[blue_patch, red_patch], loc='lower left')"
   ]
  },
  {
   "cell_type": "code",
   "execution_count": 5,
   "metadata": {},
   "outputs": [],
   "source": [
    "class FilteredIsolationForestMixin:\n",
    "    def filter_trees(self, n_filter, X, X_labels):\n",
    "        \"\"\"\n",
    "        Filter the trees out.\n",
    "        \n",
    "        Parameters\n",
    "        ----------\n",
    "        n_filter\n",
    "            Number of trees to filter out.\n",
    "            \n",
    "        X\n",
    "            The labeled objects themselves.\n",
    "            \n",
    "        X_labels\n",
    "            The labels of the objects. 1 is anomaly, -1 is not anomaly, 0 is uninformative.\n",
    "        \"\"\"\n",
    "        n_samples = X.shape[0]\n",
    "        n_trees = len(self.estimators_)\n",
    "        \n",
    "        heights = np.empty(shape=(n_samples, n_trees))\n",
    "        for tree_index in range(len(self.estimators_)):\n",
    "            estimator = self.estimators_[tree_index]\n",
    "            leaves_index = estimator.apply(X)\n",
    "            n_samples_leaf = estimator.tree_.n_node_samples[leaves_index]\n",
    "            \n",
    "            heights[:, tree_index] = \\\n",
    "                np.ravel(estimator.decision_path(X).sum(axis=1)) + \\\n",
    "                _average_path_length(n_samples_leaf) - 1\n",
    "            \n",
    "        scores = (heights * X_labels.reshape(-1, 1)).sum(axis=0)\n",
    "        indices = scores.argsort()[:-n_filter]\n",
    "        \n",
    "        self.estimators_ = [self.estimators_[i] for i in indices]\n",
    "        self.estimators_features_ = [self.estimators_features_[i] for i in indices]\n",
    "        # Can't set attribute:\n",
    "        # self.estimators_samples_ = [self.estimators_samples_[i] for i in indices]\n",
    "\n",
    "\n",
    "class FilteredIsolationForest(IsolationForest, FilteredIsolationForestMixin):\n",
    "    pass\n",
    "\n",
    "\n",
    "fifo = FilteredIsolationForest(n_estimators=200, random_state=0, contamination=3 * n_outliers / x.shape[0])\n",
    "fifo.fit(x)\n",
    "\n",
    "# Let's filter 100 trees out of 200\n",
    "fifo.filter_trees(100, x[[-1, -1 - n_outliers, -1 - 2 * n_outliers], :], np.array([1, 1, 1]))"
   ]
  },
  {
   "cell_type": "code",
   "execution_count": 6,
   "metadata": {
    "pycharm": {
     "name": "#%%\n"
    }
   },
   "outputs": [
    {
     "data": {
      "text/plain": [
       "<matplotlib.legend.Legend at 0x7fc0d112f280>"
      ]
     },
     "execution_count": 6,
     "metadata": {},
     "output_type": "execute_result"
    },
    {
     "data": {
      "image/png": "[encoded data removed]",
      "text/plain": [
       "<Figure size 432x288 with 1 Axes>"
      ]
     },
     "metadata": {
      "needs_background": "light"
     },
     "output_type": "display_data"
    }
   ],
   "source": [
    "plt.title('Filtered Isolation Forest')\n",
    "plt.xlabel('x1')\n",
    "plt.ylabel('x2')\n",
    "plt.scatter(*x.T, c=[COLORS[l] for l in fifo.predict(x)], s=10)\n",
    "blue_patch = mpatches.Patch(color='blue', label='Normal')\n",
    "red_patch = mpatches.Patch(color='red', label='Anomalous')\n",
    "plt.legend(handles=[blue_patch, red_patch], loc='lower left')"
   ]
  }
 ],
 "metadata": {
  "kernelspec": {
   "display_name": "Python 3",
   "language": "python",
   "name": "python3"
  },
  "language_info": {
   "codemirror_mode": {
    "name": "ipython",
    "version": 3
   },
   "file_extension": ".py",
   "mimetype": "text/x-python",
   "name": "python",
   "nbconvert_exporter": "python",
   "pygments_lexer": "ipython3",
   "version": "3.8.9"
  }
 },
 "nbformat": 4,
 "nbformat_minor": 1
}
